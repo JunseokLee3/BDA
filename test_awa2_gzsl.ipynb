{
 "cells": [
  {
   "cell_type": "code",
   "execution_count": 1,
   "id": "74fcbff3-9105-4038-88fa-7fe7b193fe60",
   "metadata": {},
   "outputs": [],
   "source": [
    "import wandb\n",
    "import torch\n",
    "# from utils2 import eval_zs_gzsl\n",
    "from helper_func import eval_zs_gzsl\n",
    "from dataset_test import AWA2DataLoader\n",
    "import argparse\n",
    "import json\n",
    "import pickle\n",
    "import os\n",
    "import pickle\n",
    "from torchvision import transforms\n",
    "from torch.utils.data import Dataset, Subset, DataLoader\n",
    "from PIL import Image\n",
    "import sys\n",
    "\n",
    "import torch.optim as optim\n",
    "import torch.nn as nn\n",
    "import numpy as np\n",
    "from model_test import BDA\n",
    "# from dataset import AWA2DataLoader\n",
    "from  helper_func import eval_zs_gzsl\n",
    "import json\n",
    "import argparse"
   ]
  },
  {
   "cell_type": "code",
   "execution_count": 2,
   "id": "12729865-9a33-4319-8630-7d8ae856cb2f",
   "metadata": {},
   "outputs": [
    {
     "name": "stdout",
     "output_type": "stream",
     "text": [
      ".\n",
      "$$$$$$$$$$$$$$$$$$$$$$$$$$$$$$\n",
      "AWA2\n",
      "$$$$$$$$$$$$$$$$$$$$$$$$$$$$$$\n",
      "Balance dataloader\n",
      "_____\n",
      "./../revice_Transzero/data/AWA2/feature_map_ResNet_101_AWA2.hdf5\n",
      "Expert Attr\n",
      "threshold at zero attribute with negative value\n"
     ]
    }
   ],
   "source": [
    "dataloader = AWA2DataLoader('.', \"cuda:0\")"
   ]
  },
  {
   "cell_type": "code",
   "execution_count": 3,
   "id": "cb7b5037-ecf7-4996-a152-6bdd71333eee",
   "metadata": {},
   "outputs": [
    {
     "name": "stderr",
     "output_type": "stream",
     "text": [
      "Failed to detect the name of this notebook, you can set it manually with the WANDB_NOTEBOOK_NAME environment variable to enable code saving.\n"
     ]
    },
    {
     "name": "stdout",
     "output_type": "stream",
     "text": [
      "Create sweep with ID: nca3g67a\n",
      "Sweep URL: https://wandb.ai/junseoklee_333/Ko_bda/sweeps/nca3g67a\n"
     ]
    }
   ],
   "source": [
    "sweep_configuration = {\n",
    "    'method': 'grid',\n",
    "    'name': ' test_awa2_gzsl',\n",
    "    'metric': {'goal': 'maximize', 'name': 'best_H'},\n",
    "    'parameters': \n",
    "    {  'batch_size':    {'value': 50},\n",
    "        'dataset': { 'value': 'AWA2'},\n",
    "        'device': {'value': 'cuda:0'},\n",
    "        'dim_f': { 'value': 2048},\n",
    "        'dim_v':{ 'value': 300},\n",
    "        'epochs': {'value': 130},\n",
    "        'img_size': {'value': 448},\n",
    "        'lambda_': {'values': [2.5]},\n",
    "        'lambda_reg': {'values': [0.0001]},\n",
    "        'lambda_CEVi': {'values': [0.0025]},\n",
    "        'normalize_V': {'value': \"False\"},\n",
    "        'num_attribute': { 'value': 85},\n",
    "        'num_class': {'value': 50},\n",
    "        'random_seed': {'value': 17},\n",
    "        'tf_SAtt':  {'value':  \"true\"},\n",
    "        'tf_aux_embed': {'value': \"True\"},\n",
    "        'tf_common_dim': {'values': [500]},  \n",
    "        'tf_dc_layer': {'value': 1},\n",
    "        'tf_dim_feedforward': {'values': [2048]},\n",
    "        'tf_dropout': {'values':[0.45]},\n",
    "        'tf_dropout1': {'values': [0.45]},        \n",
    "\n",
    "        'tf_ec_layer': {'value':1},\n",
    "        'tf_heads': {'value': 1},\n",
    "        'alpha': {'value': 1},\n",
    "        'beta' : {'value': 1},\n",
    "        'fsqrt': {'values': [127]},\n",
    "        'sqrt': {'values': [ 153]},        \n",
    "        'weight' : {'values': [0.01]} ,\n",
    "        'weight_self' : {'values': [1]},\n",
    "        'tgt_weight' : {'values': [1]}                       \n",
    "        }\n",
    "                                                }\n",
    "sweep_id = wandb.sweep(sweep=sweep_configuration, project='Ko_bda')"
   ]
  },
  {
   "cell_type": "code",
   "execution_count": 4,
   "id": "8612374f-a2be-41e0-807f-9c730e66dbb7",
   "metadata": {},
   "outputs": [],
   "source": [
    "def main():\n",
    "    run = wandb.init()\n",
    "    config = wandb.config\n",
    "    # set random seed\n",
    "    seed = config.random_seed\n",
    "    torch.manual_seed(seed)\n",
    "    torch.cuda.manual_seed_all(seed)\n",
    "    np.random.seed(seed)\n",
    "\n",
    "    # TransZero model\n",
    "    model = BDA(config, dataloader.att, dataloader.w2v_att,\n",
    "                    dataloader.seenclasses, dataloader.unseenclasses).to(config.device)\n",
    "    \n",
    "    # main loop\n",
    "    niters = dataloader.ntrain * config.epochs//config.batch_size\n",
    "    report_interval = niters//config.epochs\n",
    "    best_performance = [0, 0, 0, 0]\n",
    "    best_performance_zsl = 0\n",
    "    model_dict = model.state_dict()\n",
    "    # saved_dict = torch.load(config.saved_model)\n",
    "    check_point = torch.load(\"./checkpoint/AWA2/AWA2_gzsl.pth\")\n",
    "    saved_dict = check_point[\"model_state_dict\"]\n",
    "    saved_dict = {k: v for k, v in saved_dict.items() if k in model_dict}\n",
    "    model_dict.update(saved_dict)\n",
    "    model.load_state_dict(model_dict)\n",
    "    model.to(config.device)\n",
    "    model.eval()\n",
    "\n",
    "    # report result\n",
    "\n",
    "    print('-'*30)\n",
    "    acc_seen, acc_novel, H, acc_zs = eval_zs_gzsl(\n",
    "        dataloader, model, config.device, bias_seen=0, bias_unseen=0)\n",
    "\n",
    "    if H > best_performance[2]:\n",
    "        best_performance = [acc_novel, acc_seen, H, acc_zs]\n",
    "\n",
    "    print('acc_unseen=%.3f, acc_seen=%.3f, H=%.3f | '\n",
    "        'acc_zs=%.3f' % (  best_performance[0], best_performance[1],\n",
    "            best_performance[2], best_performance_zsl))\n",
    "\n",
    "    wandb.log({\n",
    "        'best_acc_unseen': best_performance[0],\n",
    "        'best_acc_seen': best_performance[1],\n",
    "        'best_H': best_performance[2]\n",
    "        })"
   ]
  },
  {
   "cell_type": "code",
   "execution_count": 5,
   "id": "4108c071-762b-4efb-bde4-00156686bb0b",
   "metadata": {},
   "outputs": [
    {
     "name": "stderr",
     "output_type": "stream",
     "text": [
      "\u001b[34m\u001b[1mwandb\u001b[0m: Agent Starting Run: g35mkxpo with config:\n",
      "\u001b[34m\u001b[1mwandb\u001b[0m: \talpha: 1\n",
      "\u001b[34m\u001b[1mwandb\u001b[0m: \tbatch_size: 50\n",
      "\u001b[34m\u001b[1mwandb\u001b[0m: \tbeta: 1\n",
      "\u001b[34m\u001b[1mwandb\u001b[0m: \tdataset: AWA2\n",
      "\u001b[34m\u001b[1mwandb\u001b[0m: \tdevice: cuda:0\n",
      "\u001b[34m\u001b[1mwandb\u001b[0m: \tdim_f: 2048\n",
      "\u001b[34m\u001b[1mwandb\u001b[0m: \tdim_v: 300\n",
      "\u001b[34m\u001b[1mwandb\u001b[0m: \tdropout_self: 1\n",
      "\u001b[34m\u001b[1mwandb\u001b[0m: \tepochs: 130\n",
      "\u001b[34m\u001b[1mwandb\u001b[0m: \tfsqrt: 127\n",
      "\u001b[34m\u001b[1mwandb\u001b[0m: \timg_size: 448\n",
      "\u001b[34m\u001b[1mwandb\u001b[0m: \tlambda_: 2.5\n",
      "\u001b[34m\u001b[1mwandb\u001b[0m: \tlambda_CEVi: 0.0025\n",
      "\u001b[34m\u001b[1mwandb\u001b[0m: \tlambda_reg: 0.0001\n",
      "\u001b[34m\u001b[1mwandb\u001b[0m: \tnormalize_V: False\n",
      "\u001b[34m\u001b[1mwandb\u001b[0m: \tnum_attribute: 85\n",
      "\u001b[34m\u001b[1mwandb\u001b[0m: \tnum_class: 50\n",
      "\u001b[34m\u001b[1mwandb\u001b[0m: \trandom_seed: 17\n",
      "\u001b[34m\u001b[1mwandb\u001b[0m: \tsqrt: 153\n",
      "\u001b[34m\u001b[1mwandb\u001b[0m: \ttf_SAtt: true\n",
      "\u001b[34m\u001b[1mwandb\u001b[0m: \ttf_aux_embed: True\n",
      "\u001b[34m\u001b[1mwandb\u001b[0m: \ttf_common_dim: 500\n",
      "\u001b[34m\u001b[1mwandb\u001b[0m: \ttf_dc_layer: 1\n",
      "\u001b[34m\u001b[1mwandb\u001b[0m: \ttf_dim_feedforward: 2048\n",
      "\u001b[34m\u001b[1mwandb\u001b[0m: \ttf_dropout: 0.45\n",
      "\u001b[34m\u001b[1mwandb\u001b[0m: \ttf_dropout1: 0.45\n",
      "\u001b[34m\u001b[1mwandb\u001b[0m: \ttf_ec_layer: 1\n",
      "\u001b[34m\u001b[1mwandb\u001b[0m: \ttf_heads: 1\n",
      "\u001b[34m\u001b[1mwandb\u001b[0m: \ttgt_weight: 1\n",
      "\u001b[34m\u001b[1mwandb\u001b[0m: \tweight: 0.01\n",
      "\u001b[34m\u001b[1mwandb\u001b[0m: \tweight_self: 1\n",
      "Failed to detect the name of this notebook, you can set it manually with the WANDB_NOTEBOOK_NAME environment variable to enable code saving.\n",
      "\u001b[34m\u001b[1mwandb\u001b[0m: Currently logged in as: \u001b[33mjunseoklee_333\u001b[0m. Use \u001b[1m`wandb login --relogin`\u001b[0m to force relogin\n"
     ]
    },
    {
     "data": {
      "text/html": [
       "wandb version 0.14.0 is available!  To upgrade, please run:\n",
       " $ pip install wandb --upgrade"
      ],
      "text/plain": [
       "<IPython.core.display.HTML object>"
      ]
     },
     "metadata": {},
     "output_type": "display_data"
    },
    {
     "data": {
      "text/html": [
       "Tracking run with wandb version 0.13.10"
      ],
      "text/plain": [
       "<IPython.core.display.HTML object>"
      ]
     },
     "metadata": {},
     "output_type": "display_data"
    },
    {
     "data": {
      "text/html": [
       "Run data is saved locally in <code>/home/junseok/experiment/ZSL/BDT_test/wandb/run-20230315_032813-g35mkxpo</code>"
      ],
      "text/plain": [
       "<IPython.core.display.HTML object>"
      ]
     },
     "metadata": {},
     "output_type": "display_data"
    },
    {
     "data": {
      "text/html": [
       "Syncing run <strong><a href='https://wandb.ai/junseoklee_333/Ko_bda/runs/g35mkxpo' target=\"_blank\">flowing-sweep-1</a></strong> to <a href='https://wandb.ai/junseoklee_333/Ko_bda' target=\"_blank\">Weights & Biases</a> (<a href='https://wandb.me/run' target=\"_blank\">docs</a>)<br/>Sweep page: <a href='https://wandb.ai/junseoklee_333/Ko_bda/sweeps/nca3g67a' target=\"_blank\">https://wandb.ai/junseoklee_333/Ko_bda/sweeps/nca3g67a</a>"
      ],
      "text/plain": [
       "<IPython.core.display.HTML object>"
      ]
     },
     "metadata": {},
     "output_type": "display_data"
    },
    {
     "data": {
      "text/html": [
       " View project at <a href='https://wandb.ai/junseoklee_333/Ko_bda' target=\"_blank\">https://wandb.ai/junseoklee_333/Ko_bda</a>"
      ],
      "text/plain": [
       "<IPython.core.display.HTML object>"
      ]
     },
     "metadata": {},
     "output_type": "display_data"
    },
    {
     "data": {
      "text/html": [
       " View sweep at <a href='https://wandb.ai/junseoklee_333/Ko_bda/sweeps/nca3g67a' target=\"_blank\">https://wandb.ai/junseoklee_333/Ko_bda/sweeps/nca3g67a</a>"
      ],
      "text/plain": [
       "<IPython.core.display.HTML object>"
      ]
     },
     "metadata": {},
     "output_type": "display_data"
    },
    {
     "data": {
      "text/html": [
       " View run at <a href='https://wandb.ai/junseoklee_333/Ko_bda/runs/g35mkxpo' target=\"_blank\">https://wandb.ai/junseoklee_333/Ko_bda/runs/g35mkxpo</a>"
      ],
      "text/plain": [
       "<IPython.core.display.HTML object>"
      ]
     },
     "metadata": {},
     "output_type": "display_data"
    },
    {
     "name": "stdout",
     "output_type": "stream",
     "text": [
      "------------------------------\n",
      "acc_unseen=0.629, acc_seen=0.797, H=0.703 | acc_zs=0.000\n"
     ]
    },
    {
     "data": {
      "text/html": [
       "Waiting for W&B process to finish... <strong style=\"color:green\">(success).</strong>"
      ],
      "text/plain": [
       "<IPython.core.display.HTML object>"
      ]
     },
     "metadata": {},
     "output_type": "display_data"
    },
    {
     "data": {
      "text/html": [
       "<style>\n",
       "    table.wandb td:nth-child(1) { padding: 0 10px; text-align: left ; width: auto;} td:nth-child(2) {text-align: left ; width: 100%}\n",
       "    .wandb-row { display: flex; flex-direction: row; flex-wrap: wrap; justify-content: flex-start; width: 100% }\n",
       "    .wandb-col { display: flex; flex-direction: column; flex-basis: 100%; flex: 1; padding: 10px; }\n",
       "    </style>\n",
       "<div class=\"wandb-row\"><div class=\"wandb-col\"><h3>Run history:</h3><br/><table class=\"wandb\"><tr><td>best_H</td><td>▁</td></tr><tr><td>best_acc_seen</td><td>▁</td></tr><tr><td>best_acc_unseen</td><td>▁</td></tr></table><br/></div><div class=\"wandb-col\"><h3>Run summary:</h3><br/><table class=\"wandb\"><tr><td>best_H</td><td>0.70337</td></tr><tr><td>best_acc_seen</td><td>0.79742</td></tr><tr><td>best_acc_unseen</td><td>0.62916</td></tr></table><br/></div></div>"
      ],
      "text/plain": [
       "<IPython.core.display.HTML object>"
      ]
     },
     "metadata": {},
     "output_type": "display_data"
    },
    {
     "data": {
      "text/html": [
       " View run <strong style=\"color:#cdcd00\">flowing-sweep-1</strong> at: <a href='https://wandb.ai/junseoklee_333/Ko_bda/runs/g35mkxpo' target=\"_blank\">https://wandb.ai/junseoklee_333/Ko_bda/runs/g35mkxpo</a><br/>Synced 6 W&B file(s), 0 media file(s), 0 artifact file(s) and 0 other file(s)"
      ],
      "text/plain": [
       "<IPython.core.display.HTML object>"
      ]
     },
     "metadata": {},
     "output_type": "display_data"
    },
    {
     "data": {
      "text/html": [
       "Find logs at: <code>./wandb/run-20230315_032813-g35mkxpo/logs</code>"
      ],
      "text/plain": [
       "<IPython.core.display.HTML object>"
      ]
     },
     "metadata": {},
     "output_type": "display_data"
    },
    {
     "name": "stderr",
     "output_type": "stream",
     "text": [
      "\u001b[34m\u001b[1mwandb\u001b[0m: Sweep Agent: Waiting for job.\n",
      "\u001b[34m\u001b[1mwandb\u001b[0m: Sweep Agent: Exiting.\n"
     ]
    }
   ],
   "source": [
    "wandb.agent(sweep_id, function=main, count=2 )"
   ]
  },
  {
   "cell_type": "code",
   "execution_count": null,
   "id": "3b8706db-9ca5-4d56-9a19-e91032873b0a",
   "metadata": {},
   "outputs": [],
   "source": []
  }
 ],
 "metadata": {
  "kernelspec": {
   "display_name": "BDT",
   "language": "python",
   "name": "bdt"
  },
  "language_info": {
   "codemirror_mode": {
    "name": "ipython",
    "version": 3
   },
   "file_extension": ".py",
   "mimetype": "text/x-python",
   "name": "python",
   "nbconvert_exporter": "python",
   "pygments_lexer": "ipython3",
   "version": "3.8.16"
  }
 },
 "nbformat": 4,
 "nbformat_minor": 5
}
